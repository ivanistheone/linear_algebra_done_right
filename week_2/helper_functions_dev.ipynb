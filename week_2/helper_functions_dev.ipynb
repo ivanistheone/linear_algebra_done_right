{
 "cells": [
  {
   "cell_type": "markdown",
   "id": "5f9491ed-e8f3-4831-8eb8-ec11ca2478ab",
   "metadata": {},
   "source": [
    "# Interactive development of LA functions\n",
    "\n",
    "Based on computational procedures in Chapter 2 of the LADR book."
   ]
  },
  {
   "cell_type": "code",
   "execution_count": null,
   "id": "d781ff81-537b-4a14-8b19-ff59fd813ec3",
   "metadata": {},
   "outputs": [],
   "source": []
  },
  {
   "cell_type": "code",
   "execution_count": 1,
   "id": "9e44d619-d7aa-4b36-94d4-bb31486a8b22",
   "metadata": {},
   "outputs": [],
   "source": [
    "# Import SymPy functions into global namespace\n",
    "from sympy import *\n",
    "init_printing()   # for printing LaTeX in lists\n",
    "Vector = Matrix   # alias Matrix to Vector"
   ]
  },
  {
   "cell_type": "code",
   "execution_count": null,
   "id": "34e2a9cc-52e5-43a6-9b89-135d1f01c0f0",
   "metadata": {},
   "outputs": [],
   "source": []
  },
  {
   "cell_type": "code",
   "execution_count": null,
   "id": "318c123b-9cc0-4bcf-a7ea-408b5afce638",
   "metadata": {},
   "outputs": [],
   "source": []
  },
  {
   "cell_type": "code",
   "execution_count": 2,
   "id": "dd8b825c-931d-4360-be3d-447b765c0995",
   "metadata": {},
   "outputs": [
    {
     "data": {
      "image/png": "[encoded data removed]",
      "text/latex": [
       "$\\displaystyle \\left( \\alpha_{1}, \\  \\alpha_{2}\\right)$"
      ],
      "text/plain": [
       "(\\alpha₁, \\alpha₂)"
      ]
     },
     "execution_count": 2,
     "metadata": {},
     "output_type": "execute_result"
    }
   ],
   "source": [
    "istart = 1\n",
    "istop = 2\n",
    "alphas = symbols(\"\\\\alpha_\" + str(istart) + \":\" + str(istop+1))\n",
    "alphas"
   ]
  },
  {
   "cell_type": "code",
   "execution_count": 3,
   "id": "a1f4fb09-bfa9-423d-9fab-69bcad5b6a53",
   "metadata": {},
   "outputs": [
    {
     "data": {
      "image/png": "[encoded data removed]",
      "text/latex": [
       "$\\displaystyle \\left\\{ \\alpha_{1} : - 2 \\alpha_{2}\\right\\}$"
      ],
      "text/plain": [
       "{\\alpha₁: -2⋅\\alpha₂}"
      ]
     },
     "execution_count": 3,
     "metadata": {},
     "output_type": "execute_result"
    }
   ],
   "source": [
    "v1 = Vector([1,2])\n",
    "v2 = Vector([2,4])\n",
    "\n",
    "vecs1 = [v1, v2]\n",
    "lin_comb1 = Add(*[alphai*vi for alphai, vi in zip(alphas,vecs1)])\n",
    "sol1 = solve(lin_comb1, alphas)\n",
    "sol1"
   ]
  },
  {
   "cell_type": "code",
   "execution_count": 4,
   "id": "f0bb32fd-a4ec-4f3c-aa7a-6d2f8d9bd152",
   "metadata": {},
   "outputs": [
    {
     "data": {
      "image/png": "[encoded data removed]",
      "text/latex": [
       "$\\displaystyle 3 \\alpha_{1} + 6 \\alpha_{2}$"
      ],
      "text/plain": [
       "3⋅\\alpha₁ + 6⋅\\alpha₂"
      ]
     },
     "execution_count": 4,
     "metadata": {},
     "output_type": "execute_result"
    }
   ],
   "source": [
    "Add(*lin_comb1)"
   ]
  },
  {
   "cell_type": "code",
   "execution_count": 5,
   "id": "97cbe6d9-5a8e-479f-b254-527ab7132738",
   "metadata": {},
   "outputs": [
    {
     "data": {
      "image/png": "[encoded data removed]",
      "text/latex": [
       "$\\displaystyle \\left( \\left[ \\alpha_{1}\\right], \\  \\left[ - 2 \\alpha_{2}\\right]\\right)$"
      ],
      "text/plain": [
       "([\\alpha₁], [-2⋅\\alpha₂])"
      ]
     },
     "execution_count": 5,
     "metadata": {},
     "output_type": "execute_result"
    }
   ],
   "source": [
    "list(sol1.keys()), list(sol1.values())"
   ]
  },
  {
   "cell_type": "code",
   "execution_count": null,
   "id": "b0746c8c-e3ae-479b-aec8-9b623da9ed4f",
   "metadata": {},
   "outputs": [],
   "source": []
  },
  {
   "cell_type": "code",
   "execution_count": 6,
   "id": "bf65bfa6-df88-48b8-b30f-3c4428222664",
   "metadata": {},
   "outputs": [
    {
     "data": {
      "image/png": "[encoded data removed]",
      "text/latex": [
       "$\\displaystyle \\left\\{ \\alpha_{1} : 0, \\  \\alpha_{2} : 0\\right\\}$"
      ],
      "text/plain": [
       "{\\alpha₁: 0, \\alpha₂: 0}"
      ]
     },
     "execution_count": 6,
     "metadata": {},
     "output_type": "execute_result"
    }
   ],
   "source": [
    "v3 = Vector([1,2])\n",
    "v4 = Vector([2,5])\n",
    "\n",
    "vecs2 = [v3, v4]\n",
    "\n",
    "lin_comb2 = [alphai*vi for alphai, vi in zip(alphas,vecs2)]\n",
    "sol2 = solve(lin_comb2, alphas)\n",
    "sol2"
   ]
  },
  {
   "cell_type": "code",
   "execution_count": 7,
   "id": "65679810-5bda-4c09-82d6-ba58c51b2935",
   "metadata": {},
   "outputs": [
    {
     "data": {
      "image/png": "[encoded data removed]",
      "text/latex": [
       "$\\displaystyle \\left( \\left[ \\alpha_{1}, \\  \\alpha_{2}\\right], \\  \\left[ 0, \\  0\\right]\\right)$"
      ],
      "text/plain": [
       "([\\alpha₁, \\alpha₂], [0, 0])"
      ]
     },
     "execution_count": 7,
     "metadata": {},
     "output_type": "execute_result"
    }
   ],
   "source": [
    "list(sol2.keys()), list(sol2.values())"
   ]
  },
  {
   "cell_type": "code",
   "execution_count": 8,
   "id": "ea67b08e-f092-4cea-8bed-91c2d4d0addc",
   "metadata": {},
   "outputs": [
    {
     "data": {
      "text/plain": [
       "True"
      ]
     },
     "execution_count": 8,
     "metadata": {},
     "output_type": "execute_result"
    }
   ],
   "source": [
    "bool(sol2.values())"
   ]
  },
  {
   "cell_type": "code",
   "execution_count": 9,
   "id": "a8df7640-73ce-49d6-9d8a-93b4da1353ae",
   "metadata": {},
   "outputs": [
    {
     "data": {
      "text/plain": [
       "False"
      ]
     },
     "execution_count": 9,
     "metadata": {},
     "output_type": "execute_result"
    }
   ],
   "source": [
    "any(sol2.values())"
   ]
  },
  {
   "cell_type": "code",
   "execution_count": 10,
   "id": "8dfd1bbd-ebed-41e8-8310-ef46e0d2b1b0",
   "metadata": {},
   "outputs": [],
   "source": [
    "from libLADR.vspaces import is_linearly_indepenent"
   ]
  },
  {
   "cell_type": "code",
   "execution_count": null,
   "id": "aee59bd4-5496-42c3-abb0-258b4f44370b",
   "metadata": {},
   "outputs": [],
   "source": []
  },
  {
   "cell_type": "code",
   "execution_count": 11,
   "id": "f4aaecfc-2e2b-4467-98c9-5dc2c0e1bc38",
   "metadata": {},
   "outputs": [
    {
     "data": {
      "text/plain": [
       "False"
      ]
     },
     "execution_count": 11,
     "metadata": {},
     "output_type": "execute_result"
    }
   ],
   "source": [
    "is_linearly_indepenent(vecs1)"
   ]
  },
  {
   "cell_type": "code",
   "execution_count": null,
   "id": "59002b6c-206b-40ff-9b09-936a1e64a903",
   "metadata": {},
   "outputs": [],
   "source": []
  },
  {
   "cell_type": "code",
   "execution_count": 12,
   "id": "8102181b-0065-4a9e-ba7e-9a745bf15417",
   "metadata": {},
   "outputs": [
    {
     "data": {
      "text/plain": [
       "True"
      ]
     },
     "execution_count": 12,
     "metadata": {},
     "output_type": "execute_result"
    }
   ],
   "source": [
    "is_linearly_indepenent(vecs2)"
   ]
  },
  {
   "cell_type": "code",
   "execution_count": 13,
   "id": "2115063f-e608-4878-8463-bca720bfd05f",
   "metadata": {},
   "outputs": [
    {
     "data": {
      "text/plain": [
       "True"
      ]
     },
     "execution_count": 13,
     "metadata": {},
     "output_type": "execute_result"
    }
   ],
   "source": [
    "is_linearly_indepenent([])"
   ]
  },
  {
   "cell_type": "code",
   "execution_count": 14,
   "id": "6f52c0eb-a03b-4871-959a-3888d853b76a",
   "metadata": {},
   "outputs": [
    {
     "data": {
      "text/plain": [
       "False"
      ]
     },
     "execution_count": 14,
     "metadata": {},
     "output_type": "execute_result"
    }
   ],
   "source": [
    "is_linearly_indepenent([Vector([0,0])])"
   ]
  },
  {
   "cell_type": "code",
   "execution_count": 15,
   "id": "1788e34f-1466-4be1-9591-8020678ec7d9",
   "metadata": {},
   "outputs": [
    {
     "data": {
      "text/plain": [
       "False"
      ]
     },
     "execution_count": 15,
     "metadata": {},
     "output_type": "execute_result"
    }
   ],
   "source": [
    "is_linearly_indepenent(vecs2+[Vector([0,0])])"
   ]
  },
  {
   "cell_type": "code",
   "execution_count": null,
   "id": "5ee0f5fe-0dec-412d-b8ac-7c6b507b599a",
   "metadata": {},
   "outputs": [],
   "source": []
  },
  {
   "cell_type": "code",
   "execution_count": null,
   "id": "d1543b54-346c-445a-9a00-866222a7b8ac",
   "metadata": {},
   "outputs": [],
   "source": []
  },
  {
   "cell_type": "code",
   "execution_count": null,
   "id": "bf1ebbbe-1a6f-4815-8900-3288232bc458",
   "metadata": {},
   "outputs": [],
   "source": []
  },
  {
   "cell_type": "code",
   "execution_count": 26,
   "id": "e56ffe7d-7fff-4b1c-a74d-28e2143ddae9",
   "metadata": {},
   "outputs": [],
   "source": [
    "from libLADR.vspaces import is_in_span"
   ]
  },
  {
   "cell_type": "code",
   "execution_count": 30,
   "id": "f078fd63-6a68-4074-8c69-43473e487b4a",
   "metadata": {},
   "outputs": [
    {
     "data": {
      "text/plain": [
       "True"
      ]
     },
     "execution_count": 30,
     "metadata": {},
     "output_type": "execute_result"
    }
   ],
   "source": [
    "is_in_span(vecs1[0], vecs1)"
   ]
  },
  {
   "cell_type": "code",
   "execution_count": 31,
   "id": "790b5efa-e3b3-4da5-910a-36c11d85df54",
   "metadata": {},
   "outputs": [
    {
     "data": {
      "text/plain": [
       "True"
      ]
     },
     "execution_count": 31,
     "metadata": {},
     "output_type": "execute_result"
    }
   ],
   "source": [
    "is_in_span(vecs1[1], vecs1)"
   ]
  },
  {
   "cell_type": "code",
   "execution_count": 32,
   "id": "18d7bdfe-6565-4b9a-8b8f-fe4ea696fc52",
   "metadata": {},
   "outputs": [
    {
     "data": {
      "text/plain": [
       "False"
      ]
     },
     "execution_count": 32,
     "metadata": {},
     "output_type": "execute_result"
    }
   ],
   "source": [
    "is_in_span(vecs2[1], vecs1)"
   ]
  },
  {
   "cell_type": "code",
   "execution_count": null,
   "id": "5015a1e9-86f2-476e-bbf2-054a3d707638",
   "metadata": {},
   "outputs": [],
   "source": []
  },
  {
   "cell_type": "code",
   "execution_count": null,
   "id": "87f70fd2-04a0-49a9-bf81-b3425450ed85",
   "metadata": {},
   "outputs": [],
   "source": []
  },
  {
   "cell_type": "code",
   "execution_count": null,
   "id": "c0e27f51-97f2-4e2b-8dcc-c9018f31ad1d",
   "metadata": {},
   "outputs": [],
   "source": []
  },
  {
   "cell_type": "code",
   "execution_count": 33,
   "id": "ea63d8e0-43fc-42a8-82f9-20f9e3280f7e",
   "metadata": {},
   "outputs": [],
   "source": [
    "from libLADR.vspaces import reduce_list_of_dep_vectors"
   ]
  },
  {
   "cell_type": "code",
   "execution_count": 17,
   "id": "b6ec8fe1-d7d6-49c7-8807-c9744658780d",
   "metadata": {},
   "outputs": [
    {
     "data": {
      "image/png": "[encoded data removed]",
      "text/latex": [
       "$\\displaystyle \\left[ \\left[\\begin{matrix}1\\\\2\\end{matrix}\\right], \\  \\left[\\begin{matrix}2\\\\4\\end{matrix}\\right]\\right]$"
      ],
      "text/plain": [
       "⎡⎡1⎤  ⎡2⎤⎤\n",
       "⎢⎢ ⎥, ⎢ ⎥⎥\n",
       "⎣⎣2⎦  ⎣4⎦⎦"
      ]
     },
     "execution_count": 17,
     "metadata": {},
     "output_type": "execute_result"
    }
   ],
   "source": [
    "vecs1"
   ]
  },
  {
   "cell_type": "code",
   "execution_count": 18,
   "id": "f3eb3bbf-b18d-44b3-9c05-7d3aeaf60314",
   "metadata": {},
   "outputs": [
    {
     "data": {
      "image/png": "[encoded data removed]",
      "text/latex": [
       "$\\displaystyle \\left[ \\left[\\begin{matrix}1\\\\2\\end{matrix}\\right]\\right]$"
      ],
      "text/plain": [
       "⎡⎡1⎤⎤\n",
       "⎢⎢ ⎥⎥\n",
       "⎣⎣2⎦⎦"
      ]
     },
     "execution_count": 18,
     "metadata": {},
     "output_type": "execute_result"
    }
   ],
   "source": [
    "reduce_list_of_dep_vectors(vecs1)"
   ]
  },
  {
   "cell_type": "code",
   "execution_count": 19,
   "id": "d7a058e8-4fcc-43ed-a5d7-38fc5cfc84aa",
   "metadata": {},
   "outputs": [
    {
     "data": {
      "image/png": "[encoded data removed]",
      "text/latex": [
       "$\\displaystyle \\left[ \\left[\\begin{matrix}1\\\\2\\end{matrix}\\right], \\  \\left[\\begin{matrix}2\\\\5\\end{matrix}\\right]\\right]$"
      ],
      "text/plain": [
       "⎡⎡1⎤  ⎡2⎤⎤\n",
       "⎢⎢ ⎥, ⎢ ⎥⎥\n",
       "⎣⎣2⎦  ⎣5⎦⎦"
      ]
     },
     "execution_count": 19,
     "metadata": {},
     "output_type": "execute_result"
    }
   ],
   "source": [
    "vecs2\n",
    "reduce_list_of_dep_vectors(vecs2)"
   ]
  },
  {
   "cell_type": "code",
   "execution_count": 20,
   "id": "11953e8a-98d0-4741-876e-42004a0679a7",
   "metadata": {},
   "outputs": [
    {
     "data": {
      "image/png": "[encoded data removed]",
      "text/latex": [
       "$\\displaystyle \\left[ \\left[\\begin{matrix}1\\\\2\\end{matrix}\\right], \\  \\left[\\begin{matrix}2\\\\5\\end{matrix}\\right]\\right]$"
      ],
      "text/plain": [
       "⎡⎡1⎤  ⎡2⎤⎤\n",
       "⎢⎢ ⎥, ⎢ ⎥⎥\n",
       "⎣⎣2⎦  ⎣5⎦⎦"
      ]
     },
     "execution_count": 20,
     "metadata": {},
     "output_type": "execute_result"
    }
   ],
   "source": [
    "reduce_list_of_dep_vectors(vecs2+[Vector([0,0])])"
   ]
  },
  {
   "cell_type": "code",
   "execution_count": 21,
   "id": "5fda094c-2851-4e34-b39f-063cc70e0025",
   "metadata": {},
   "outputs": [
    {
     "data": {
      "image/png": "[encoded data removed]",
      "text/latex": [
       "$\\displaystyle \\left[ \\right]$"
      ],
      "text/plain": [
       "[]"
      ]
     },
     "execution_count": 21,
     "metadata": {},
     "output_type": "execute_result"
    }
   ],
   "source": [
    "reduce_list_of_dep_vectors([Vector([0,0])])"
   ]
  },
  {
   "cell_type": "code",
   "execution_count": null,
   "id": "b64d2e90-1f8c-420c-85e9-ba4614cc8fd9",
   "metadata": {},
   "outputs": [],
   "source": []
  },
  {
   "cell_type": "code",
   "execution_count": null,
   "id": "3e2b43f5-f0da-4825-900a-b2a81536aba7",
   "metadata": {},
   "outputs": [],
   "source": []
  },
  {
   "cell_type": "code",
   "execution_count": 22,
   "id": "f80357e1-9b8b-46a6-9775-cc94ad38c089",
   "metadata": {},
   "outputs": [],
   "source": [
    "from libLADR.vspaces import spanning_set2basis\n",
    "\n"
   ]
  },
  {
   "cell_type": "code",
   "execution_count": 23,
   "id": "748d200e-0c10-4b6c-94d9-b826df519bfb",
   "metadata": {},
   "outputs": [
    {
     "data": {
      "image/png": "[encoded data removed]",
      "text/latex": [
       "$\\displaystyle \\left[ \\left[\\begin{matrix}1\\\\2\\end{matrix}\\right]\\right]$"
      ],
      "text/plain": [
       "⎡⎡1⎤⎤\n",
       "⎢⎢ ⎥⎥\n",
       "⎣⎣2⎦⎦"
      ]
     },
     "execution_count": 23,
     "metadata": {},
     "output_type": "execute_result"
    }
   ],
   "source": [
    "spanning_set2basis(vecs1)"
   ]
  },
  {
   "cell_type": "code",
   "execution_count": 24,
   "id": "a35913b5-51d7-48b6-8d9a-cb7be13e6c0d",
   "metadata": {},
   "outputs": [
    {
     "data": {
      "image/png": "[encoded data removed]",
      "text/latex": [
       "$\\displaystyle \\left[ \\left[\\begin{matrix}1\\\\2\\end{matrix}\\right], \\  \\left[\\begin{matrix}2\\\\5\\end{matrix}\\right]\\right]$"
      ],
      "text/plain": [
       "⎡⎡1⎤  ⎡2⎤⎤\n",
       "⎢⎢ ⎥, ⎢ ⎥⎥\n",
       "⎣⎣2⎦  ⎣5⎦⎦"
      ]
     },
     "execution_count": 24,
     "metadata": {},
     "output_type": "execute_result"
    }
   ],
   "source": [
    "spanning_set2basis(vecs2+[Vector([0,0])])"
   ]
  },
  {
   "cell_type": "code",
   "execution_count": 25,
   "id": "4213b18a-5b30-4e39-9c94-c26ac12b19bd",
   "metadata": {},
   "outputs": [
    {
     "data": {
      "image/png": "[encoded data removed]",
      "text/latex": [
       "$\\displaystyle \\left[ \\right]$"
      ],
      "text/plain": [
       "[]"
      ]
     },
     "execution_count": 25,
     "metadata": {},
     "output_type": "execute_result"
    }
   ],
   "source": [
    "spanning_set2basis([Vector([0,0])])"
   ]
  }
 ],
 "metadata": {
  "kernelspec": {
   "display_name": "Python 3 (ipykernel)",
   "language": "python",
   "name": "python3"
  },
  "language_info": {
   "codemirror_mode": {
    "name": "ipython",
    "version": 3
   },
   "file_extension": ".py",
   "mimetype": "text/x-python",
   "name": "python",
   "nbconvert_exporter": "python",
   "pygments_lexer": "ipython3",
   "version": "3.9.4"
  }
 },
 "nbformat": 4,
 "nbformat_minor": 5
}
